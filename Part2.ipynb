{
 "cells": [
  {
   "cell_type": "code",
   "execution_count": null,
   "metadata": {},
   "outputs": [],
   "source": [
    "import pandas as pd\n",
    "from sklearn.model_selection import train_test_split\n",
    "\n",
    "data_cleaned = pd.read_csv('C:/Users/wang/Desktop/NewFolder/data_cleaned.csv')\n",
    "\n",
    "X = data_cleaned.iloc[:, :-1]\n",
    "y = data_cleaned['exp_sig']\n",
    "\n",
    "X_train, X_test, y_train, y_test = train_test_split(X, y, test_size=0.2, random_state=42)\n",
    "\n",
    "X_train.to_csv('C:/Users/wang/Desktop/NewFolder/X_train.csv', index=False)\n",
    "X_test.to_csv('C:/Users/wang/Desktop/NewFolder/X_test.csv', index=False)\n",
    "y_train.to_csv('C:/Users/wang/Desktop/NewFolder/y_train.csv', index=False)\n",
    "y_test.to_csv('C:/Users/wang/Desktop/NewFolder/y_test.csv', index=False)\n",
    "\n",
    "print(\"数据集分割完成，并已保存至指定文件夹。\")"
   ]
  },
  {
   "cell_type": "code",
   "execution_count": 1,
   "metadata": {},
   "outputs": [
    {
     "name": "stdout",
     "output_type": "stream",
     "text": [
      "exp_sig       bool\n",
      "fan_cre       bool\n",
      "plt_con       bool\n",
      "mul_plt       bool\n",
      "plt_spo     object\n",
      "pk_sco       int64\n",
      "maj_gen     object\n",
      "fi          object\n",
      "ao          object\n",
      "typ         object\n",
      "multi         bool\n",
      "cre_lev     object\n",
      "tra_rate     int64\n",
      "vio           bool\n",
      "lt_hol      object\n",
      "maj_inc     object\n",
      "avg_pv       int64\n",
      "dtype: object\n"
     ]
    }
   ],
   "source": [
    "import pandas as pd\n",
    "from sklearn.model_selection import train_test_split\n",
    "from sklearn.linear_model import LogisticRegression\n",
    "from sklearn.ensemble import GradientBoostingClassifier\n",
    "from sklearn.neural_network import MLPClassifier\n",
    "from sklearn.metrics import accuracy_score, precision_score, recall_score, f1_score\n",
    "from sklearn.preprocessing import StandardScaler\n",
    "import joblib\n",
    "\n",
    "X_train = pd.read_csv('C:/Users/wang/Desktop/NewFolder/X_train.csv')\n",
    "X_test = pd.read_csv('C:/Users/wang/Desktop/NewFolder/X_test.csv')\n",
    "y_train = pd.read_csv('C:/Users/wang/Desktop/NewFolder/y_train.csv').values.ravel()\n",
    "y_test = pd.read_csv('C:/Users/wang/Desktop/NewFolder/y_test.csv').values.ravel()\n",
    "\n",
    "print(X_train.dtypes)\n",
    "\n",
    "X_train = pd.get_dummies(X_train)\n",
    "X_test = pd.get_dummies(X_test)\n",
    "\n",
    "X_train, X_test = X_train.align(X_test, join='left', axis=1, fill_value=0)"
   ]
  },
  {
   "cell_type": "code",
   "execution_count": null,
   "metadata": {},
   "outputs": [
    {
     "data": {
      "text/plain": [
       "['C:/Users/wang/Desktop/NewFolder/log_reg_model.pkl']"
      ]
     },
     "execution_count": 2,
     "metadata": {},
     "output_type": "execute_result"
    }
   ],
   "source": [
    "scaler = StandardScaler()\n",
    "X_train_scaled = scaler.fit_transform(X_train)\n",
    "X_test_scaled = scaler.transform(X_test)\n",
    "\n",
    "# 取前1000行\n",
    "X_train_sample = X_train.head(1000)\n",
    "y_train_sample = y_train[:1000]\n",
    "X_test_sample = X_test.head(1000)\n",
    "y_test_sample = y_test[:1000]\n",
    "\n",
    "log_reg = LogisticRegression(max_iter=1000)\n",
    "log_reg.fit(X_train_sample, y_train_sample)\n",
    "y_pred_log_reg = log_reg.predict(X_test_sample)\n",
    "\n",
    "joblib.dump(log_reg, 'C:/Users/wang/Desktop/NewFolder/log_reg_model.pkl')"
   ]
  },
  {
   "cell_type": "code",
   "execution_count": null,
   "metadata": {},
   "outputs": [],
   "source": [
    "# 建立GBDT模型\n",
    "gbdt = GradientBoostingClassifier(n_estimators=100)\n",
    "gbdt.fit(X_train_sample, y_train_sample)\n",
    "y_pred_gbdt = gbdt.predict(X_test_sample)\n",
    "\n",
    "joblib.dump(gbdt, 'C:/Users/wang/Desktop/NewFolder/gbdt_model.pkl')"
   ]
  },
  {
   "cell_type": "code",
   "execution_count": 4,
   "metadata": {},
   "outputs": [
    {
     "data": {
      "text/plain": [
       "['C:/Users/wang/Desktop/NewFolder/mlp_model.pkl']"
      ]
     },
     "execution_count": 4,
     "metadata": {},
     "output_type": "execute_result"
    }
   ],
   "source": [
    "# 建立MLP模型\n",
    "mlp = MLPClassifier(hidden_layer_sizes=(100,), max_iter=1000)\n",
    "mlp.fit(X_train_sample, y_train_sample)\n",
    "y_pred_mlp = mlp.predict(X_test_sample)\n",
    "\n",
    "joblib.dump(mlp, 'C:/Users/wang/Desktop/NewFolder/mlp_model.pkl')"
   ]
  },
  {
   "cell_type": "code",
   "execution_count": null,
   "metadata": {},
   "outputs": [],
   "source": [
    "log_reg_testdata = pd.DataFrame(y_pred_log_reg, columns=['LogisticRegression'])\n",
    "gbdt_testdata = pd.DataFrame(y_pred_gbdt, columns=['GBDT'])\n",
    "mlp_testdata = pd.DataFrame(y_pred_mlp, columns=['MLP'])\n",
    "\n",
    "log_reg_testdata.to_csv('C:/Users/wang/Desktop/NewFolder/log_reg_testdata.csv', index=False)\n",
    "gbdt_testdata.to_csv('C:/Users/wang/Desktop/NewFolder/gbdt_testdata.csv', index=False)\n",
    "mlp_testdata.to_csv('C:/Users/wang/Desktop/NewFolder/mlp_testdata.csv', index=False)"
   ]
  }
 ],
 "metadata": {
  "kernelspec": {
   "display_name": "base",
   "language": "python",
   "name": "python3"
  },
  "language_info": {
   "codemirror_mode": {
    "name": "ipython",
    "version": 3
   },
   "file_extension": ".py",
   "mimetype": "text/x-python",
   "name": "python",
   "nbconvert_exporter": "python",
   "pygments_lexer": "ipython3",
   "version": "3.9.7"
  }
 },
 "nbformat": 4,
 "nbformat_minor": 2
}
